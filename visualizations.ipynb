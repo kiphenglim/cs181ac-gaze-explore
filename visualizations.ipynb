{
 "cells": [
  {
   "cell_type": "code",
   "execution_count": null,
   "metadata": {},
   "outputs": [],
   "source": [
    "import pandas as pd\n",
    "import numpy as np\n",
    "import matplotlib.pyplot as plt\n",
    "from matplotlib.pyplot import figure"
   ]
  },
  {
   "cell_type": "code",
   "execution_count": null,
   "metadata": {},
   "outputs": [],
   "source": [
    "no_country2 = pd.read_csv('gazepoints/no_country_clip2_gazepoints.csv')"
   ]
  },
  {
   "cell_type": "code",
   "execution_count": null,
   "metadata": {},
   "outputs": [],
   "source": [
    "no_country2['subject'].unique()\n"
   ]
  },
  {
   "cell_type": "code",
   "execution_count": null,
   "metadata": {},
   "outputs": [],
   "source": [
    "no_country2.tail()"
   ]
  },
  {
   "cell_type": "code",
   "execution_count": null,
   "metadata": {},
   "outputs": [],
   "source": [
    "no_country2 = no_country2[no_country2['eyetracker_valid'] == 1]"
   ]
  },
  {
   "cell_type": "code",
   "execution_count": null,
   "metadata": {},
   "outputs": [],
   "source": [
    "no_country2.tail(20)"
   ]
  },
  {
   "cell_type": "code",
   "execution_count": null,
   "metadata": {},
   "outputs": [],
   "source": [
    "# f,ax = figure(figsize=(20, 10), dpi=80)\n",
    "# f, ax = plt.subplots()\n",
    "\n",
    "figure(figsize=(20, 10), dpi=80)\n",
    "ax.set(xlim=(0, 1), ylim=(0, 1))\n",
    "\n",
    "plt.scatter(x_values, y_values)"
   ]
  },
  {
   "cell_type": "code",
   "execution_count": null,
   "metadata": {},
   "outputs": [],
   "source": [
    "# put in extension for fname\n",
    "def make_scatter(df, fname):\n",
    "    x_val = np.array(df['x'])\n",
    "    y_val = np.array(df['y'])\n",
    "    \n",
    "    f, ax = plt.subplots() # make figure\n",
    "    ax.set(xlim=(0, 1), ylim=(0, 1))\n",
    "    plt.scatter(x_val, y_val)\n",
    "#     plt.savefig(fname)\n",
    "\n"
   ]
  },
  {
   "cell_type": "code",
   "execution_count": null,
   "metadata": {},
   "outputs": [],
   "source": [
    "def make_scatter2(df, fname):\n",
    "    x_val = np.array(df['x'])\n",
    "    y_val = np.array(df['y'])\n",
    "    \n",
    "    f, ax = plt.subplots() # make figure\n",
    "#     ax.set(xlim=(0, 1), ylim=(0, 1))\n",
    "    plt.scatter(x_val, y_val)\n",
    "#     plt.savefig(fname)"
   ]
  },
  {
   "cell_type": "code",
   "execution_count": null,
   "metadata": {},
   "outputs": [],
   "source": [
    "make_scatter(no_country2[0:1], \"plt.png\")"
   ]
  },
  {
   "cell_type": "code",
   "execution_count": null,
   "metadata": {},
   "outputs": [],
   "source": [
    "x_values = np.array(no_country2['x'])[0:30]"
   ]
  },
  {
   "cell_type": "code",
   "execution_count": null,
   "metadata": {},
   "outputs": [],
   "source": [
    "y_values = np.array(no_country2['y'])[0:30]"
   ]
  },
  {
   "cell_type": "code",
   "execution_count": null,
   "metadata": {},
   "outputs": [],
   "source": [
    "# f,ax = figure(figsize=(20, 10), dpi=80)\n",
    "f, ax = plt.subplots()\n",
    "\n",
    "ax.set(xlim=(0, 1), ylim=(0, 1))\n",
    "\n",
    "plt.scatter(x_values, y_values)\n",
    "\n",
    "\n"
   ]
  },
  {
   "cell_type": "code",
   "execution_count": null,
   "metadata": {},
   "outputs": [],
   "source": [
    "make_scatter(no_country2[0:7], \"whole.png\")"
   ]
  },
  {
   "cell_type": "code",
   "execution_count": null,
   "metadata": {},
   "outputs": [],
   "source": [
    "make_scatter2(no_country2[0:7], \"whole.png\")"
   ]
  },
  {
   "cell_type": "code",
   "execution_count": null,
   "metadata": {},
   "outputs": [],
   "source": [
    "nc_B2 = no_country2[no_country2['subject'] == 'B2']\n",
    " "
   ]
  },
  {
   "cell_type": "code",
   "execution_count": null,
   "metadata": {},
   "outputs": [],
   "source": [
    "nc_B2.head(100)"
   ]
  },
  {
   "cell_type": "code",
   "execution_count": null,
   "metadata": {},
   "outputs": [],
   "source": [
    "make_scatter(nc_B2[0:100], \"B2.png\")"
   ]
  },
  {
   "cell_type": "code",
   "execution_count": null,
   "metadata": {},
   "outputs": [],
   "source": []
  }
 ],
 "metadata": {
  "kernelspec": {
   "display_name": "Python 3",
   "language": "python",
   "name": "python3"
  },
  "language_info": {
   "codemirror_mode": {
    "name": "ipython",
    "version": 3
   },
   "file_extension": ".py",
   "mimetype": "text/x-python",
   "name": "python",
   "nbconvert_exporter": "python",
   "pygments_lexer": "ipython3",
   "version": "3.9.5"
  }
 },
 "nbformat": 4,
 "nbformat_minor": 2
}
